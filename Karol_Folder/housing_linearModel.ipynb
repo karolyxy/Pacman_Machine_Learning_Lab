{
 "cells": [
  {
   "cell_type": "code",
   "execution_count": 222,
   "metadata": {},
   "outputs": [],
   "source": [
    "import pandas as pd\n",
    "import numpy as np\n",
    "import matplotlib.pyplot as plt\n",
    "%matplotlib inline"
   ]
  },
  {
   "cell_type": "code",
   "execution_count": 223,
   "metadata": {},
   "outputs": [],
   "source": [
    "pd.set_option('display.max_columns', 300)"
   ]
  },
  {
   "cell_type": "code",
   "execution_count": 254,
   "metadata": {},
   "outputs": [],
   "source": [
    "import warnings\n",
    "def ignore_warn(*args, **kwargs):\n",
    "    pass\n",
    "warnings.warn = ignore_warn"
   ]
  },
  {
   "cell_type": "code",
   "execution_count": 255,
   "metadata": {},
   "outputs": [
    {
     "name": "stdout",
     "output_type": "stream",
     "text": [
      "(1460, 79)\n",
      "(1459, 79)\n",
      "(1460,)\n"
     ]
    }
   ],
   "source": [
    "# loading the dataset that has preprocessed before\n",
    "# cleaned out all the missing value: NA -> None, NA -> 0, categorical -> 0,..., n\n",
    "train_df = pd.read_csv('./pre_processed_train_data.csv')\n",
    "test_df = pd.read_csv('./pre_processed_test_data.csv')\n",
    "\n",
    "\n",
    "\n",
    "y_train = train_df['SalePrice']\n",
    "#y_train_log = np.log(y_train)\n",
    "X_train = train_df.drop('SalePrice', axis=1)\n",
    "X_test = test_df.copy()\n",
    "\n",
    "del train_df, test_df\n",
    "\n",
    "#print(test_df_ID.shape)\n",
    "print(X_train.shape)\n",
    "print(X_test.shape)\n",
    "print(y_train.shape)"
   ]
  },
  {
   "cell_type": "code",
   "execution_count": 256,
   "metadata": {},
   "outputs": [],
   "source": [
    "n_folds = 5"
   ]
  },
  {
   "cell_type": "code",
   "execution_count": 257,
   "metadata": {},
   "outputs": [],
   "source": [
    "import sklearn.model_selection as ms\n",
    "from sklearn.model_selection import KFold, cross_val_score, train_test_split, GridSearchCV\n",
    "from sklearn import linear_model\n",
    "from sklearn.pipeline import make_pipeline\n",
    "from sklearn.preprocessing import RobustScaler"
   ]
  },
  {
   "cell_type": "code",
   "execution_count": 258,
   "metadata": {},
   "outputs": [
    {
     "name": "stdout",
     "output_type": "stream",
     "text": [
      "(1460,)\n"
     ]
    },
    {
     "data": {
      "text/plain": [
       "0.8529112785052386"
      ]
     },
     "execution_count": 258,
     "metadata": {},
     "output_type": "execute_result"
    }
   ],
   "source": [
    "lm = linear_model.LinearRegression()\n",
    "\n",
    "simple_LM = lm.fit(X_train, y_train)\n",
    "\n",
    "predictions = simple_LM.predict(X_train)\n",
    "print(predictions.shape)\n",
    "\n",
    "lm.score(X_train, y_train)"
   ]
  },
  {
   "cell_type": "code",
   "execution_count": 259,
   "metadata": {},
   "outputs": [],
   "source": [
    "#stratify_divide = ms.StratifiedKFold(n_splits=5, random_state=0)\n",
    "grid_param = [{'alpha': np.linspace(75, 82, 1000)}]\n",
    "\n",
    "ridge_search = GridSearchCV(estimator = linear_model.Ridge(), param_grid=grid_param, \\\n",
    "                           cv=5, return_train_score=True)\n",
    "ridge_search = ridge_search.fit(X_train, y_train)"
   ]
  },
  {
   "cell_type": "code",
   "execution_count": 260,
   "metadata": {},
   "outputs": [
    {
     "name": "stdout",
     "output_type": "stream",
     "text": [
      "0.813294388799916 {'alpha': 79.988988988989}\n"
     ]
    }
   ],
   "source": [
    "print(ridge_search.best_score_, ridge_search.best_params_)"
   ]
  },
  {
   "cell_type": "code",
   "execution_count": 271,
   "metadata": {},
   "outputs": [],
   "source": [
    "grid_param = [{'alpha': np.logspace(2, 5, 1000)}]\n",
    "\n",
    "lasso_search = GridSearchCV(estimator = linear_model.Lasso(), param_grid = grid_param, \\\n",
    "                           cv = 5, return_train_score = True)\n",
    "lasso_search = lasso_search.fit(X_train, y_train)"
   ]
  },
  {
   "cell_type": "code",
   "execution_count": 272,
   "metadata": {},
   "outputs": [
    {
     "name": "stdout",
     "output_type": "stream",
     "text": [
      "0.8104279580760216 {'alpha': 529.3266058360562}\n"
     ]
    }
   ],
   "source": [
    "print(lasso_search.best_score_, lasso_search.best_params_)"
   ]
  },
  {
   "cell_type": "code",
   "execution_count": null,
   "metadata": {},
   "outputs": [],
   "source": []
  }
 ],
 "metadata": {
  "kernelspec": {
   "display_name": "Python 3",
   "language": "python",
   "name": "python3"
  },
  "language_info": {
   "codemirror_mode": {
    "name": "ipython",
    "version": 3
   },
   "file_extension": ".py",
   "mimetype": "text/x-python",
   "name": "python",
   "nbconvert_exporter": "python",
   "pygments_lexer": "ipython3",
   "version": "3.5.5"
  }
 },
 "nbformat": 4,
 "nbformat_minor": 2
}
